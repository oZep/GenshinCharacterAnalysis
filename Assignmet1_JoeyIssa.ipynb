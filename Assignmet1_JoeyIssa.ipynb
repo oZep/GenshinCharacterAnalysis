{
  "nbformat": 4,
  "nbformat_minor": 0,
  "metadata": {
    "colab": {
      "provenance": [],
      "authorship_tag": "ABX9TyNGlRpf4vpj4M+4zCdIxbaI",
      "include_colab_link": true
    },
    "kernelspec": {
      "name": "python3",
      "display_name": "Python 3"
    },
    "language_info": {
      "name": "python"
    }
  },
  "cells": [
    {
      "cell_type": "markdown",
      "metadata": {
        "id": "view-in-github",
        "colab_type": "text"
      },
      "source": [
        "<a href=\"https://colab.research.google.com/github/JJoeyIssa/GenshinCharacterAnalysis/blob/main/Assignmet1_JoeyIssa.ipynb\" target=\"_parent\"><img src=\"https://colab.research.google.com/assets/colab-badge.svg\" alt=\"Open In Colab\"/></a>"
      ]
    },
    {
      "cell_type": "markdown",
      "source": [
        "\n",
        "**```Problem One```**\n",
        "\n",
        "Write a function called series_sum() that prompts the user for an non-negative integer n. If the user enters\n",
        "a negative integer the function should return None, otherwise the function should return the sum of the\n",
        "following series 1000 + 1/1^2 + 1/2^2 + 1/n^2\n",
        "for the given integer n. For example, for n = 0,\n",
        "the function should return 1000, for n = 1, the function should return 1001, for n = 2, the function should\n",
        "return 1001.25, for n = 3, the function should return 1001.3611111111111, etc.\n",
        "\n",
        "> series_sum()\n",
        ">>Please enter a non-negative integer: 0\n",
        ">>>1000\n",
        "\n",
        "> series_sum()\n",
        ">>Please enter a non-negative integer: 5\n",
        ">>>1001.463611111111\n",
        "\n",
        "```\n",
        "\n"
      ],
      "metadata": {
        "id": "NYmWb4AEC7mQ"
      }
    },
    {
      "cell_type": "code",
      "execution_count": null,
      "metadata": {
        "colab": {
          "base_uri": "https://localhost:8080/"
        },
        "id": "f1fhA5eRaQa-",
        "outputId": "ed52f53b-cd45-4a6d-ac5e-d345459cf495"
      },
      "outputs": [
        {
          "output_type": "stream",
          "name": "stdout",
          "text": [
            "please enter a non-negative integer: 5\n",
            "1001.463611111111\n"
          ]
        }
      ],
      "source": [
        "import math\n",
        "\n",
        "def series_sum(n):\n",
        "  ''' (int) -> int\n",
        "  output a series calulation with the input'''\n",
        "  sum = 1000\n",
        "  while n >> 0:\n",
        "    sum += 1/(n**2)\n",
        "    n -= 1\n",
        "  return sum\n",
        "\n",
        "\n",
        "def negOrPos(num):\n",
        "  ''' (int) -> str\n",
        "  Takes a value and outputs whether positive or neg''' \n",
        "  if num >= 0:\n",
        "   calculate = series_sum(integer) #if number is positive continue to calc series\n",
        "   return calculate\n",
        "  else:\n",
        "    return None #if number is negative return\n",
        "\n",
        "\n",
        "integer = int(input(\"please enter a non-negative integer: \"))\n",
        "\n",
        "answer = negOrPos(integer)\n",
        "print(answer)"
      ]
    },
    {
      "cell_type": "markdown",
      "source": [
        "**```Problem Two```**\n",
        "\n",
        "Hint: Think of how slicing and reversing of strings can help with this problem.\n",
        "\n",
        "You want to send a note to your friend in class, and because you want to be respectful in class, you don’t\n",
        "want to whip out your phone and send a text or an email (or any other digital communication). Instead, you choose to go old school and write it out on a piece of paper and pass it along to your friend. The problem is, you don’t want anyone else to read the note as they pass it along. Luckily, your friend and you have come up with an encryption system so that nobody else can understand your message. Here’s how it works: you write out your message backwards (so, Hello, world becomes dlrow ,olleH). But you don’t stop there, because that’s too easy to crack - anyone can figure that out!)\n",
        "\n",
        "Now that you’ve written it backwards, you start on either side of the string and bring the characters together. So, the first and the last characters become the first and the second character in the encrypted string, and the second and the second last characters become the third and the fourth characters in the string, and so on. Thus, Hello, world ultimately becomes dHlerlolwo. And 0123456789 becomes 9081726354.\n",
        "\n",
        "(Notice how all punctuations, special characters, spaces, etc are all treated the same)\n",
        "\n",
        "Write a function called encrypt, that has one parameter s where s is a string and encrypt returns a string which is the encrypted version of s.\n",
        "\n",
        "Fun fact in cryptography, s is called “clear text” and the encrypted version you return is called “cipher\n",
        "text”\n",
        ">> encrypt(\"Hello, world\")\n",
        ">>>'dHlerlolwo ,'\n",
        "\n",
        ">> encrypt(\"1234\")\n",
        ">>>'4132'\n",
        "\n",
        ">> encrypt(\"12345\")\n",
        ">>>'51423'"
      ],
      "metadata": {
        "id": "gPpBpgkuDt39"
      }
    },
    {
      "cell_type": "code",
      "source": [
        "def encrypt(s):\n",
        "  ''' (str) -> str \n",
        "  takes cleartext and encodes it'''\n",
        "  encrypt2 = []\n",
        "  encrypt3 = []\n",
        "  encryptFull = []\n",
        "  encryptFinal = \"\"\n",
        "  for i in s:\n",
        "    encrypt2.append(i) #make the string into the list so that you can use pop\n",
        "    encryptFull.append(i) #print(encrypt2)\n",
        "\n",
        "  for i in encryptFull: #for each value in the list\n",
        "      encrypt3 += encrypt2.pop() #pops the last value, adds to new list\n",
        "      encrypt2.reverse() # reverses list <--this doesnt go through the whole thing for some reason\n",
        "\n",
        "  for i in encrypt3:\n",
        "    encryptFinal += i\n",
        "  return encryptFinal\n",
        "    \n",
        "#the output forms a pattern\n",
        "# 12345, pop  and reverse\n",
        "# 4321, pop  and reverse\n",
        "# 324, pop and reverse\n",
        "# 32, pop and reverse\n",
        "# 3, pop\n",
        "# all pops = 51423\n",
        "\n",
        "clearText = input(\"What do you want to encrypt? \")\n",
        "secretNote = encrypt(clearText)\n",
        "print(secretNote)"
      ],
      "metadata": {
        "colab": {
          "base_uri": "https://localhost:8080/"
        },
        "id": "puZLeYs7g8Fm",
        "outputId": "89c010da-0ce8-4526-9faf-7d970a0f088b"
      },
      "execution_count": null,
      "outputs": [
        {
          "output_type": "stream",
          "name": "stdout",
          "text": [
            "What do you want to encrypt? Hello, world\n",
            "['H', 'e', 'l', 'l', 'o', ',', ' ', 'w', 'o', 'r', 'l', 'd']\n",
            "dHlerlolwo ,\n"
          ]
        }
      ]
    },
    {
      "cell_type": "markdown",
      "source": [
        "**```Problem Three```**\n",
        "\n",
        "Write a function named month_apart that accepts four integer parameters representing two calendar dates. Each date consists of a month (1 through 12) and a day (1 through the number of days in that month [28-31]). Assume that all dates occur during the same year. The method returns whether the dates are at least a month apart. For example, the following dates are all considered to be at least a month apart from 9/19 (September 19): 2/14, 7/25, 8/2, 8/19, 10/19, 10/20, and 11/5. The following dates are NOT at least a month apart from 9/19: 9/20, 9/28, 10/1, 10/15, and 10/18. Note that the first date could come before or after (or be the same as) the second date. Assume that all parameter values passed are valid.\n",
        "\n",
        "**Sample calls:**\n",
        ">>month_apart( 6, 14, 9, 21) should return True, because June 14 is at least a month before September 21\n",
        "\n",
        ">>month_apart( 4, 5, 5, 15) should return True, because April 5 is at least a month before May 15\n",
        "\n",
        ">>month_apart( 4, 15, 5, 15) should return True, because April 15 is at least a month before May 15\n",
        "\n",
        ">>month_apart( 4, 16, 5, 15) should return False, because April 16 isn't at least a month apart from May 15\n",
        "\n",
        ">>month_apart( 6, 14, 6, 8) should return False, because June 14 isn't at least a month apart from June 8\n",
        "\n",
        ">>month_apart( 7, 7, 6, 8) should return False, because July 7 isn't at least a month apart from June 8\n"
      ],
      "metadata": {
        "id": "RB4wZtxCEMvg"
      }
    },
    {
      "cell_type": "code",
      "source": [
        "def month_apart(m1,m2,m3,m4):\n",
        "  ''' (int,int,int,int) -> bool\n",
        "  takes dates returns distance true if >= month'''\n",
        "  m1 -=1 \n",
        "  m2 -=1\n",
        "  dayInMonths = [31,28,31,30,31,30,31,31,30,31,30,31]\n",
        "  day1 = dayInMonths[:m1]\n",
        "  day2 = dayInMonths[:m3]\n",
        "  numday1 = 0\n",
        "  numday2 = 0\n",
        "  for i in day1:\n",
        "    numday1 += i\n",
        "  for i in day2:\n",
        "    numday2 += i\n",
        "  numday1 -= m2\n",
        "  numday2 -= m4\n",
        "  dayBtween = numday1 - numday2\n",
        "  if dayBtween >= 28 or dayBtween <= -28:\n",
        "    return True\n",
        "  elif m1 - m2 >= 1 or m1 - m2 <= -1:\n",
        "    return True\n",
        "  else:\n",
        "    return False\n",
        "month_apart( 7, 7, 6, 8)"
      ],
      "metadata": {
        "colab": {
          "base_uri": "https://localhost:8080/"
        },
        "id": "bkE5a5G9wZpt",
        "outputId": "56e16ef5-c072-4978-bde9-8812b3735ead"
      },
      "execution_count": null,
      "outputs": [
        {
          "output_type": "execute_result",
          "data": {
            "text/plain": [
              "False"
            ]
          },
          "metadata": {},
          "execution_count": 35
        }
      ]
    },
    {
      "cell_type": "markdown",
      "source": [
        "**```Problem Four```**\n",
        "\n",
        "Write a function named count_even_digits that accepts two integers as parameters and returns the number of even-valued digits in the first number. An even-valued digit is either 0, 2, 4, 6, or 8. The second value represents how many digits the number has. The second value is guaranteed to match the\n",
        "number of digits in the first number. For example, the number 8546587 has four even digits (the two 8s, the 4, and the 6), so the call count_even_digits(8346387, 7) should return 4.\n",
        "\n",
        "You may assume that the values passed to your function are non-negative."
      ],
      "metadata": {
        "id": "uHic0sXNE0XK"
      }
    },
    {
      "cell_type": "code",
      "source": [
        "def count_even_digits(num, digits):\n",
        "  '''(int,int) -> int\n",
        "  count even digits then returns number of them'''\n",
        "  n = 0\n",
        "  num = str(num)\n",
        "  for i in num:\n",
        "    if i in \"02468\":\n",
        "      n += 1\n",
        "  return n\n",
        "count_even_digits(682406824068240, 9)"
      ],
      "metadata": {
        "id": "JKNmBZb4wZew",
        "colab": {
          "base_uri": "https://localhost:8080/"
        },
        "outputId": "b370f69b-2a2b-475d-98f7-9035f2174e7f"
      },
      "execution_count": 44,
      "outputs": [
        {
          "output_type": "execute_result",
          "data": {
            "text/plain": [
              "15"
            ]
          },
          "metadata": {},
          "execution_count": 44
        }
      ]
    }
  ]
}